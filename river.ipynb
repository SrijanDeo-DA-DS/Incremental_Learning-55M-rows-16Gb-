{
 "cells": [
  {
   "cell_type": "code",
   "execution_count": 1,
   "id": "623b7fb3-e134-4f90-904a-131013336c58",
   "metadata": {},
   "outputs": [],
   "source": [
    "from river import compose, preprocessing, ensemble\n",
    "from river import stream"
   ]
  },
  {
   "cell_type": "code",
   "execution_count": 2,
   "id": "1ffeb974-c901-419a-b721-5a897915db67",
   "metadata": {},
   "outputs": [],
   "source": [
    "import pandas as pd\n",
    "#from sklearn.ensemble import RandomForestClassifier\n",
    "from sklearn.model_selection import train_test_split\n",
    "from sklearn.metrics import classification_report"
   ]
  },
  {
   "cell_type": "code",
   "execution_count": 3,
   "id": "6e16c22f-035b-4bba-bd92-44e774554de9",
   "metadata": {},
   "outputs": [],
   "source": [
    "def preprocess(df):\n",
    "\n",
    "    df_labels = pd.read_csv('train_labels.csv')\n",
    "    \n",
    "    missing_values = df.isnull().sum()\n",
    "    percentage_missing = (missing_values / df.shape[0]) * 100\n",
    "    columns_to_keep = percentage_missing[percentage_missing < 50].index\n",
    "    \n",
    "    df = df[columns_to_keep]\n",
    "    \n",
    "    df = pd.merge(df,df_labels,on='customer_ID')\n",
    "    df = df.drop(columns=['customer_ID','S_2'])\n",
    "\n",
    "    \n",
    "    int_mean = df.select_dtypes(include=['int64']).mean()\n",
    "    float_median = df.select_dtypes(include=['float64']).median()\n",
    "    mode = df.select_dtypes(include=['object']).mode().iloc[0]\n",
    "\n",
    "    \n",
    "    for col in df.select_dtypes(include=['int64']).columns:\n",
    "        df[col] = df[col].fillna(int_mean[col])\n",
    "    for col in df.select_dtypes(include=['float64']).columns:\n",
    "        df[col] = df[col].fillna(float_median[col])\n",
    "    for col in df.select_dtypes(include=['object']).columns:\n",
    "        df[col] = df[col].fillna(mode[col])\n",
    "\n",
    "\n",
    "    df['D_63'] = df['D_63'].map(df['D_63'].value_counts(normalize=True))\n",
    "    df['D_64'] = df['D_64'].map(df['D_64'].value_counts(normalize=True))\n",
    "\n",
    "    X_train, X_test, y_train, y_test = train_test_split(df.drop(columns=['target']),df['target'],test_size=0.2,\n",
    "                                                        random_state=42)\n",
    "\n",
    "    model = ensemble.RandomForestClassifier()\n",
    "\n",
    "    # Train the model with the initial number of trees\n",
    "    model.learn_one(X_train, y_train)\n",
    "    \n",
    "    y_pred = model.predict_one(X_test)\n",
    "\n",
    "    print(classification_report(y_test,y_pred))"
   ]
  },
  {
   "cell_type": "code",
   "execution_count": null,
   "id": "54c8c215-b9dc-49e1-8890-cef2fc9c0d55",
   "metadata": {},
   "outputs": [],
   "source": [
    "data_stream = stream.iter_pandas(pd.read_csv('train_data.csv'))\n",
    "\n",
    "for x in data_stream:\n",
    "    preprocess(pd.DataFrame([x])).iloc[0].to_dict()"
   ]
  },
  {
   "cell_type": "code",
   "execution_count": null,
   "id": "f8daa4f9-2d4e-4def-92bc-6a0acd71bc43",
   "metadata": {},
   "outputs": [],
   "source": []
  }
 ],
 "metadata": {
  "kernelspec": {
   "display_name": "Python 3 (ipykernel)",
   "language": "python",
   "name": "python3"
  },
  "language_info": {
   "codemirror_mode": {
    "name": "ipython",
    "version": 3
   },
   "file_extension": ".py",
   "mimetype": "text/x-python",
   "name": "python",
   "nbconvert_exporter": "python",
   "pygments_lexer": "ipython3",
   "version": "3.11.7"
  }
 },
 "nbformat": 4,
 "nbformat_minor": 5
}
