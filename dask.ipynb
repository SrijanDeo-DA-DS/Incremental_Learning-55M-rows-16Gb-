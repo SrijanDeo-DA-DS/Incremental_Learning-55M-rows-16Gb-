{
 "cells": [
  {
   "cell_type": "code",
   "execution_count": 15,
   "id": "1dbd900a-e3df-42b3-bb9f-76106672693e",
   "metadata": {},
   "outputs": [],
   "source": [
    "import dask.dataframe as dd\n",
    "import pandas as pd\n",
    "\n",
    "pd.set_option('display.max_columns', None)\n",
    "pd.set_option('display.max_rows', None)\n",
    "\n",
    "df = dd.read_csv('train_data.csv')\n",
    "df_labels = dd.read_csv('train_labels.csv')"
   ]
  },
  {
   "cell_type": "code",
   "execution_count": 16,
   "id": "1675e00b-bb79-4120-a54d-0fa34de31968",
   "metadata": {},
   "outputs": [],
   "source": [
    "from sklearn.model_selection import train_test_split\n",
    "from sklearn.metrics import classification_report\n",
    "from sklearn.ensemble import RandomForestClassifier"
   ]
  },
  {
   "cell_type": "markdown",
   "id": "37e20c14-87ca-4a2f-9e7b-c8a54e543f05",
   "metadata": {},
   "source": [
    "* Below function will preprocess the data, split the data in train and test, and finally train an Ensemble Random Forest"
   ]
  },
  {
   "cell_type": "code",
   "execution_count": 17,
   "id": "6c7ab782-8764-489b-a96e-2c927f7eeae6",
   "metadata": {},
   "outputs": [],
   "source": [
    "def preprocess(df,df_labels):\n",
    "    \n",
    "    missing_values = df.isnull().sum().compute()\n",
    "    percentage_missing = (missing_values / df.shape[0].compute()) * 100\n",
    "    columns_to_keep = percentage_missing[percentage_missing < 50].index\n",
    "    \n",
    "    df = df[columns_to_keep]\n",
    "    \n",
    "    df = dd.merge(df,df_labels,on='customer_ID')\n",
    "    df = df.drop(columns=['customer_ID','S_2'])\n",
    "\n",
    "    \n",
    "    int_mean = df.select_dtypes(include=['int64']).mean().compute()\n",
    "    float_median_approx = df.select_dtypes(include=['float64']).median_approximate().compute()\n",
    "    float_median = float_median_approx\n",
    "    mode = df.select_dtypes(include=['string[pyarrow]']).mode().compute().iloc[0]\n",
    "\n",
    "    \n",
    "    for col in df.select_dtypes(include=['int64']).columns:\n",
    "        df[col] = df[col].fillna(int_mean[col])\n",
    "    for col in df.select_dtypes(include=['float64']).columns:\n",
    "        df[col] = df[col].fillna(float_median[col])\n",
    "    for col in df.select_dtypes(include=['string[pyarrow]']).columns:\n",
    "        df[col] = df[col].fillna(mode[col])\n",
    "\n",
    "\n",
    "    df['D_63'] = df['D_63'].map(df['D_63'].value_counts(normalize=True))\n",
    "    df['D_64'] = df['D_64'].map(df['D_64'].value_counts(normalize=True))\n",
    "\n",
    "    X_train, X_test, y_train, y_test = train_test_split(df.drop(columns=['target']).compute(),df['target'].compute(),\n",
    "                                                        test_size=0.2,\n",
    "                                                        random_state=42)\n",
    "\n",
    "    model = RandomForestClassifier(n_estimators=10, n_jobs=-1)\n",
    "\n",
    "    # Train the model with the initial number of trees\n",
    "    model.fit(X_train, y_train)\n",
    "\n",
    "    y_pred = model.predict(X_test)\n",
    "\n",
    "    print(classification_report(y_test,y_pred))"
   ]
  },
  {
   "cell_type": "code",
   "execution_count": 18,
   "id": "86b9700e-7992-4e13-aae4-8944fd8132c9",
   "metadata": {
    "scrolled": true
   },
   "outputs": [
    {
     "name": "stdout",
     "output_type": "stream",
     "text": [
      "              precision    recall  f1-score   support\n",
      "\n",
      "           0       0.90      0.94      0.92    831388\n",
      "           1       0.79      0.69      0.74    274903\n",
      "\n",
      "    accuracy                           0.88   1106291\n",
      "   macro avg       0.84      0.82      0.83   1106291\n",
      "weighted avg       0.87      0.88      0.87   1106291\n",
      "\n",
      "Elapsed time: 2223.3998806476593 seconds\n"
     ]
    }
   ],
   "source": [
    "import time\n",
    "start_time = time.time()\n",
    "preprocess(df, df_labels)\n",
    "end_time = time.time()\n",
    "elapsed_time = end_time - start_time\n",
    "print(f\"Elapsed time: {elapsed_time} seconds\")"
   ]
  },
  {
   "cell_type": "code",
   "execution_count": null,
   "id": "6212eb00-032e-4a98-8085-b5b13b3b4e40",
   "metadata": {},
   "outputs": [],
   "source": []
  }
 ],
 "metadata": {
  "kernelspec": {
   "display_name": "Python 3 (ipykernel)",
   "language": "python",
   "name": "python3"
  },
  "language_info": {
   "codemirror_mode": {
    "name": "ipython",
    "version": 3
   },
   "file_extension": ".py",
   "mimetype": "text/x-python",
   "name": "python",
   "nbconvert_exporter": "python",
   "pygments_lexer": "ipython3",
   "version": "3.11.7"
  }
 },
 "nbformat": 4,
 "nbformat_minor": 5
}
