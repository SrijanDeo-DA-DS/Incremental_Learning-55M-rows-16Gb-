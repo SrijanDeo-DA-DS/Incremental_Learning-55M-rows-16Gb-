{
 "cells": [
  {
   "cell_type": "code",
   "execution_count": 1,
   "id": "7db149aa-a9d7-450a-9ae7-4bef0d673f33",
   "metadata": {},
   "outputs": [],
   "source": [
    "import pandas as pd\n",
    "from sklearn.ensemble import RandomForestClassifier\n",
    "from sklearn.model_selection import train_test_split\n",
    "from sklearn.metrics import classification_report"
   ]
  },
  {
   "cell_type": "markdown",
   "id": "cdfddc48-ea5e-4ebf-8b2d-f9e4a7f4ad54",
   "metadata": {},
   "source": [
    "* Below function will preprocess the data, split the data in train and test, and finally train an Ensemble Random Forest"
   ]
  },
  {
   "cell_type": "code",
   "execution_count": 6,
   "id": "24ca54fe-c6da-4213-bc12-cc8a0f841a7e",
   "metadata": {},
   "outputs": [],
   "source": [
    "def preprocess(df):\n",
    "\n",
    "    df_labels = pd.read_csv('train_labels.csv')\n",
    "    \n",
    "    missing_values = df.isnull().sum()\n",
    "    percentage_missing = (missing_values / df.shape[0]) * 100\n",
    "    columns_to_keep = percentage_missing[percentage_missing < 50].index\n",
    "    \n",
    "    df = df[columns_to_keep]\n",
    "    \n",
    "    df = pd.merge(df,df_labels,on='customer_ID')\n",
    "    df = df.drop(columns=['customer_ID','S_2'])\n",
    "\n",
    "    \n",
    "    int_mean = df.select_dtypes(include=['int64']).mean()\n",
    "    float_median = df.select_dtypes(include=['float64']).median()\n",
    "    mode = df.select_dtypes(include=['object']).mode().iloc[0]\n",
    "\n",
    "    \n",
    "    for col in df.select_dtypes(include=['int64']).columns:\n",
    "        df[col] = df[col].fillna(int_mean[col])\n",
    "    for col in df.select_dtypes(include=['float64']).columns:\n",
    "        df[col] = df[col].fillna(float_median[col])\n",
    "    for col in df.select_dtypes(include=['object']).columns:\n",
    "        df[col] = df[col].fillna(mode[col])\n",
    "\n",
    "\n",
    "    df['D_63'] = df['D_63'].map(df['D_63'].value_counts(normalize=True))\n",
    "    df['D_64'] = df['D_64'].map(df['D_64'].value_counts(normalize=True))\n",
    "\n",
    "    X_train, X_test, y_train, y_test = train_test_split(df.drop(columns=['target']),df['target'],test_size=0.2,\n",
    "                                                        random_state=42)\n",
    "\n",
    "    model = RandomForestClassifier(n_estimators=10, warm_start=True, n_jobs=-1)\n",
    "\n",
    "    # Train the model with the initial number of trees\n",
    "    model.fit(X_train, y_train)\n",
    "    \n",
    "    # Increase the number of trees and continue training\n",
    "    model.n_estimators += 5\n",
    "    model.fit(X_train, y_train)\n",
    "\n",
    "    y_pred = model.predict(X_test)\n",
    "\n",
    "    i = 1\n",
    "    if i==550:\n",
    "        print(classification_report(y_test,y_pred))\n",
    "    else:\n",
    "        i = i+1"
   ]
  },
  {
   "cell_type": "code",
   "execution_count": 7,
   "id": "ce6175bf-9c90-47ec-b81d-6745cd9941b3",
   "metadata": {
    "scrolled": true
   },
   "outputs": [
    {
     "name": "stdout",
     "output_type": "stream",
     "text": [
      "Elapsed time: 779.6397974491119 seconds\n"
     ]
    }
   ],
   "source": [
    "import time\n",
    "start_time = time.time()\n",
    "for chunk in pd.read_csv('train_data.csv', chunksize=100000):\n",
    "    # Preprocess the chunk\n",
    "    preprocess(chunk)\n",
    "end_time = time.time()\n",
    "elapsed_time = end_time - start_time\n",
    "print(f\"Elapsed time: {elapsed_time} seconds\")"
   ]
  },
  {
   "cell_type": "code",
   "execution_count": null,
   "id": "64e82191-a772-40ca-b92f-afbb05400cd6",
   "metadata": {},
   "outputs": [],
   "source": [
    "model"
   ]
  }
 ],
 "metadata": {
  "kernelspec": {
   "display_name": "Python 3 (ipykernel)",
   "language": "python",
   "name": "python3"
  },
  "language_info": {
   "codemirror_mode": {
    "name": "ipython",
    "version": 3
   },
   "file_extension": ".py",
   "mimetype": "text/x-python",
   "name": "python",
   "nbconvert_exporter": "python",
   "pygments_lexer": "ipython3",
   "version": "3.11.7"
  }
 },
 "nbformat": 4,
 "nbformat_minor": 5
}
